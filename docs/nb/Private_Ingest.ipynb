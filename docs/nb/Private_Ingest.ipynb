{
 "cells": [
  {
   "cell_type": "markdown",
   "metadata": {},
   "source": [
    "# Ingesting Private Datasets (v1.4.1)"
   ]
  },
  {
   "cell_type": "code",
   "execution_count": 1,
   "metadata": {
    "collapsed": false
   },
   "outputs": [],
   "source": [
    "# imports\n",
    "import warnings\n",
    "warnings.filterwarnings('ignore')\n",
    "\n",
    "import h5py\n",
    "import specdb\n",
    "import glob\n",
    "\n",
    "from astropy.table import Table\n",
    "from linetools import utils as ltu\n",
    "\n",
    "from specdb.build import privatedb as pbuild"
   ]
  },
  {
   "cell_type": "markdown",
   "metadata": {},
   "source": [
    "## Test on Single Folder"
   ]
  },
  {
   "cell_type": "code",
   "execution_count": 2,
   "metadata": {
    "collapsed": true
   },
   "outputs": [],
   "source": [
    "tree = specdb.__path__[0]+'/build/tests/files'\n",
    "#os.getenv('DROPBOX_DIR')+'/QSOPairs/data/MMT_redux/'"
   ]
  },
  {
   "cell_type": "code",
   "execution_count": 3,
   "metadata": {
    "collapsed": false
   },
   "outputs": [
    {
     "data": {
      "text/plain": [
       "2"
      ]
     },
     "execution_count": 3,
     "metadata": {},
     "output_type": "execute_result"
    }
   ],
   "source": [
    "reload(pbuild)\n",
    "flux_files = pbuild.grab_files(tree)\n",
    "len(flux_files)"
   ]
  },
  {
   "cell_type": "code",
   "execution_count": 4,
   "metadata": {
    "collapsed": false
   },
   "outputs": [
    {
     "data": {
      "text/plain": [
       "([u'/Users/xavier/local/Python/specdb/specdb/build/tests/files//./SDSSJ001605.89+005654.3_b800_F.fits.gz',\n",
       "  u'/Users/xavier/local/Python/specdb/specdb/build/tests/files//./SDSSJ001607.27+005653.1_b800_F.fits.gz'],\n",
       " None)"
      ]
     },
     "execution_count": 4,
     "metadata": {},
     "output_type": "execute_result"
    }
   ],
   "source": [
    "flux_files[:5]"
   ]
  },
  {
   "cell_type": "markdown",
   "metadata": {},
   "source": [
    "----"
   ]
  },
  {
   "cell_type": "markdown",
   "metadata": {},
   "source": [
    "## Directory Tree"
   ]
  },
  {
   "cell_type": "code",
   "execution_count": 9,
   "metadata": {
    "collapsed": false
   },
   "outputs": [],
   "source": [
    "tree2 = specdb.__path__[0]+'/data/test_privateDB'"
   ]
  },
  {
   "cell_type": "code",
   "execution_count": 10,
   "metadata": {
    "collapsed": false
   },
   "outputs": [],
   "source": [
    "branches = glob.glob(tree2+'/*')"
   ]
  },
  {
   "cell_type": "markdown",
   "metadata": {},
   "source": [
    "### Files"
   ]
  },
  {
   "cell_type": "code",
   "execution_count": 12,
   "metadata": {
    "collapsed": false
   },
   "outputs": [
    {
     "data": {
      "text/plain": [
       "2"
      ]
     },
     "execution_count": 12,
     "metadata": {},
     "output_type": "execute_result"
    }
   ],
   "source": [
    "reload(pbuild)\n",
    "mflux_files, meta_file = pbuild.grab_files(branches[0])\n",
    "len(mflux_files)"
   ]
  },
  {
   "cell_type": "code",
   "execution_count": 13,
   "metadata": {
    "collapsed": false
   },
   "outputs": [
    {
     "data": {
      "text/plain": [
       "[u'/Users/xavier/local/Python/specdb/specdb/data/test_privateDB/COS//./J095240.17+515250.03.fits.gz',\n",
       " u'/Users/xavier/local/Python/specdb/specdb/data/test_privateDB/COS//./J095243.05+515121.15.fits.gz']"
      ]
     },
     "execution_count": 13,
     "metadata": {},
     "output_type": "execute_result"
    }
   ],
   "source": [
    "mflux_files[:5]"
   ]
  },
  {
   "cell_type": "code",
   "execution_count": 14,
   "metadata": {
    "collapsed": false
   },
   "outputs": [
    {
     "data": {
      "text/plain": [
       "u'/Users/xavier/local/Python/specdb/specdb/data/test_privateDB/COS/COS_meta.json'"
      ]
     },
     "execution_count": 14,
     "metadata": {},
     "output_type": "execute_result"
    }
   ],
   "source": [
    "meta_file"
   ]
  },
  {
   "cell_type": "code",
   "execution_count": 15,
   "metadata": {
    "collapsed": false
   },
   "outputs": [
    {
     "data": {
      "text/plain": [
       "{u'maxpix': 60000,\n",
       " u'meta_dict': {u'TELESCOPE': u'HST'},\n",
       " u'parse_head': {u'DATE-OBS': u'DATE',\n",
       "  u'GRATING': u'OPT_ELEM',\n",
       "  u'INSTR': u'INSTRUME',\n",
       "  u'R': True}}"
      ]
     },
     "execution_count": 15,
     "metadata": {},
     "output_type": "execute_result"
    }
   ],
   "source": [
    "meta_dict = ltu.loadjson(meta_file)\n",
    "meta_dict"
   ]
  },
  {
   "cell_type": "markdown",
   "metadata": {},
   "source": [
    "### ztbl  (read from file)"
   ]
  },
  {
   "cell_type": "code",
   "execution_count": 17,
   "metadata": {
    "collapsed": false
   },
   "outputs": [],
   "source": [
    "ztbl = Table.read(specdb.__path__[0]+'/data/test_privateDB/testDB_ztbl.fits')"
   ]
  },
  {
   "cell_type": "markdown",
   "metadata": {},
   "source": [
    "### Meta"
   ]
  },
  {
   "cell_type": "code",
   "execution_count": 18,
   "metadata": {
    "collapsed": false
   },
   "outputs": [],
   "source": [
    "reload(pbuild)\n",
    "meta = pbuild.mk_meta(mflux_files, ztbl, fname=True, mdict=meta_dict['meta_dict'], parse_head=meta_dict['parse_head'])"
   ]
  },
  {
   "cell_type": "code",
   "execution_count": 19,
   "metadata": {
    "collapsed": false
   },
   "outputs": [
    {
     "data": {
      "text/html": [
       "&lt;Table length=2&gt;\n",
       "<table id=\"table4635318288\" class=\"table-striped table-bordered table-condensed\">\n",
       "<thead><tr><th>RA_SPEC</th><th>DEC_SPEC</th><th>STYPE</th><th>zem</th><th>sig_zem</th><th>flag_zem</th><th>SPEC_FILE</th><th>DATE-OBS</th><th>GRATING</th><th>R</th><th>INSTR</th><th>TELESCOPE</th><th>EPOCH</th><th>GROUP_ID</th></tr></thead>\n",
       "<thead><tr><th>float64</th><th>float64</th><th>str3</th><th>float64</th><th>float64</th><th>str8</th><th>unicode96</th><th>str10</th><th>str5</th><th>float64</th><th>str3</th><th>unicode3</th><th>float64</th><th>int64</th></tr></thead>\n",
       "<tr><td>148.167375</td><td>51.8805638889</td><td>QSO</td><td>1.3</td><td>0.0</td><td>UNKNW</td><td>/Users/xavier/local/Python/specdb/specdb/data/test_privateDB/COS//./J095240.17+515250.03.fits.gz</td><td>2015-05-31</td><td>G130M</td><td>17000.0</td><td>COS</td><td>HST</td><td>2000.0</td><td>0</td></tr>\n",
       "<tr><td>148.179375</td><td>51.855875</td><td>QSO</td><td>1.4</td><td>0.0</td><td>UNKNW</td><td>/Users/xavier/local/Python/specdb/specdb/data/test_privateDB/COS//./J095243.05+515121.15.fits.gz</td><td>2015-12-08</td><td>G130M</td><td>17000.0</td><td>COS</td><td>HST</td><td>2000.0</td><td>1</td></tr>\n",
       "</table>"
      ],
      "text/plain": [
       "<Table length=2>\n",
       " RA_SPEC      DEC_SPEC   STYPE   zem   ... INSTR TELESCOPE  EPOCH  GROUP_ID\n",
       " float64      float64     str3 float64 ...  str3  unicode3 float64  int64  \n",
       "---------- ------------- ----- ------- ... ----- --------- ------- --------\n",
       "148.167375 51.8805638889   QSO     1.3 ...   COS       HST  2000.0        0\n",
       "148.179375     51.855875   QSO     1.4 ...   COS       HST  2000.0        1"
      ]
     },
     "execution_count": 19,
     "metadata": {},
     "output_type": "execute_result"
    }
   ],
   "source": [
    "meta[0:3]"
   ]
  },
  {
   "cell_type": "markdown",
   "metadata": {},
   "source": [
    "### Spectra"
   ]
  },
  {
   "cell_type": "code",
   "execution_count": 20,
   "metadata": {
    "collapsed": false
   },
   "outputs": [],
   "source": [
    "hdf = h5py.File('tmp.hdf5','w')"
   ]
  },
  {
   "cell_type": "code",
   "execution_count": 21,
   "metadata": {
    "collapsed": false
   },
   "outputs": [
    {
     "name": "stdout",
     "output_type": "stream",
     "text": [
      "Adding test group to DB\n"
     ]
    }
   ],
   "source": [
    "reload(pbuild)\n",
    "pbuild.ingest_spectra(hdf, 'test', meta, max_npix=meta_dict['maxpix'])"
   ]
  },
  {
   "cell_type": "code",
   "execution_count": 22,
   "metadata": {
    "collapsed": true
   },
   "outputs": [],
   "source": [
    "hdf.close()"
   ]
  },
  {
   "cell_type": "markdown",
   "metadata": {
    "collapsed": true
   },
   "source": [
    "## All in One"
   ]
  },
  {
   "cell_type": "code",
   "execution_count": 23,
   "metadata": {
    "collapsed": false
   },
   "outputs": [
    {
     "name": "stdout",
     "output_type": "stream",
     "text": [
      "Wrote tmp.hdf5 DB file\n"
     ]
    }
   ],
   "source": [
    "reload(pbuild)\n",
    "pbuild.mk_db(tree2, 'test', 'tmp.hdf5', ztbl, fname=True)"
   ]
  },
  {
   "cell_type": "markdown",
   "metadata": {},
   "source": [
    "----"
   ]
  },
  {
   "cell_type": "markdown",
   "metadata": {
    "collapsed": true
   },
   "source": [
    "## JSON files for meta table"
   ]
  },
  {
   "cell_type": "code",
   "execution_count": 25,
   "metadata": {
    "collapsed": true
   },
   "outputs": [],
   "source": [
    "parse_head = {'DATE-OBS':'DATE', 'TELESCOPE':'TELESCOP','INSTR':'INSTRUME', 'R': True}\n",
    "mdict = dict(GRATING='ALL', R=8000.)"
   ]
  },
  {
   "cell_type": "code",
   "execution_count": 26,
   "metadata": {
    "collapsed": true
   },
   "outputs": [],
   "source": [
    "db_dict = dict(parse_head=parse_head, meta_dict=mdict, maxpix=60000)"
   ]
  },
  {
   "cell_type": "code",
   "execution_count": 27,
   "metadata": {
    "collapsed": true
   },
   "outputs": [],
   "source": [
    "jdict = ltu.jsonify(db_dict)"
   ]
  },
  {
   "cell_type": "code",
   "execution_count": 28,
   "metadata": {
    "collapsed": false
   },
   "outputs": [],
   "source": [
    "ltu.savejson('tst.json', jdict, easy_to_read=True)"
   ]
  },
  {
   "cell_type": "code",
   "execution_count": null,
   "metadata": {
    "collapsed": true
   },
   "outputs": [],
   "source": []
  }
 ],
 "metadata": {
  "kernelspec": {
   "display_name": "Python 2",
   "language": "python",
   "name": "python2"
  },
  "language_info": {
   "codemirror_mode": {
    "name": "ipython",
    "version": 2
   },
   "file_extension": ".py",
   "mimetype": "text/x-python",
   "name": "python",
   "nbconvert_exporter": "python",
   "pygments_lexer": "ipython2",
   "version": "2.7.11"
  }
 },
 "nbformat": 4,
 "nbformat_minor": 0
}
